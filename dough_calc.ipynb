{
 "cells": [
  {
   "cell_type": "markdown",
   "metadata": {},
   "source": [
    "# Dough calculator\n",
    "\n",
    "Input the percentage of wholewheat flour and the final loaf weight in grams. The calculator will spit out table of ingredients."
   ]
  },
  {
   "cell_type": "code",
   "execution_count": 17,
   "metadata": {},
   "outputs": [],
   "source": [
    "percent_wholewheat = 100  # percent from 0 to 100\n",
    "loaf_weight = 600         # grams"
   ]
  },
  {
   "cell_type": "code",
   "execution_count": 18,
   "metadata": {},
   "outputs": [],
   "source": [
    "import pandas as pd\n",
    "\n",
    "BASE_INGREDIENTS = {\n",
    "    \"yeast\": 2.0,\n",
    "    \"oil\": 6.0,\n",
    "    \"honey\": 4.0,\n",
    "    \"salt\": 2.0\n",
    "}\n",
    "\n",
    "def get_water_percent(percent_wholewheat: float) -> float:\n",
    "    \"\"\"Returns the water percentage for the given whole wheat percentage.\"\"\"\n",
    "    return 63 + percent_wholewheat * 0.04"
   ]
  },
  {
   "cell_type": "code",
   "execution_count": 19,
   "metadata": {},
   "outputs": [],
   "source": [
    "# Calculate the ingredients % for the given whole wheat percentage\n",
    "ingredients = BASE_INGREDIENTS.copy()\n",
    "ingredients.update({\n",
    "    \"water\": get_water_percent(percent_wholewheat),\n",
    "    \"wholewheat_flour\": percent_wholewheat,\n",
    "    \"white_flour\": 100 - percent_wholewheat\n",
    "})\n",
    "\n",
    "# Convert ingredients % to df\n",
    "df = pd.DataFrame(ingredients, index=[0])\n",
    "df = df.T\n",
    "df.columns = [\"bakers_percent\"]"
   ]
  },
  {
   "cell_type": "code",
   "execution_count": 20,
   "metadata": {},
   "outputs": [
    {
     "data": {
      "text/html": [
       "<div>\n",
       "<style scoped>\n",
       "    .dataframe tbody tr th:only-of-type {\n",
       "        vertical-align: middle;\n",
       "    }\n",
       "\n",
       "    .dataframe tbody tr th {\n",
       "        vertical-align: top;\n",
       "    }\n",
       "\n",
       "    .dataframe thead th {\n",
       "        text-align: right;\n",
       "    }\n",
       "</style>\n",
       "<table border=\"1\" class=\"dataframe\">\n",
       "  <thead>\n",
       "    <tr style=\"text-align: right;\">\n",
       "      <th></th>\n",
       "      <th>bakers_percent</th>\n",
       "      <th>grams</th>\n",
       "    </tr>\n",
       "  </thead>\n",
       "  <tbody>\n",
       "    <tr>\n",
       "      <th>yeast</th>\n",
       "      <td>2.0</td>\n",
       "      <td>6.6</td>\n",
       "    </tr>\n",
       "    <tr>\n",
       "      <th>oil</th>\n",
       "      <td>6.0</td>\n",
       "      <td>19.9</td>\n",
       "    </tr>\n",
       "    <tr>\n",
       "      <th>honey</th>\n",
       "      <td>4.0</td>\n",
       "      <td>13.3</td>\n",
       "    </tr>\n",
       "    <tr>\n",
       "      <th>salt</th>\n",
       "      <td>2.0</td>\n",
       "      <td>6.6</td>\n",
       "    </tr>\n",
       "    <tr>\n",
       "      <th>water</th>\n",
       "      <td>67.0</td>\n",
       "      <td>222.1</td>\n",
       "    </tr>\n",
       "    <tr>\n",
       "      <th>wholewheat_flour</th>\n",
       "      <td>100.0</td>\n",
       "      <td>331.5</td>\n",
       "    </tr>\n",
       "    <tr>\n",
       "      <th>white_flour</th>\n",
       "      <td>0.0</td>\n",
       "      <td>0.0</td>\n",
       "    </tr>\n",
       "    <tr>\n",
       "      <th>total</th>\n",
       "      <td>181.0</td>\n",
       "      <td>600.0</td>\n",
       "    </tr>\n",
       "  </tbody>\n",
       "</table>\n",
       "</div>"
      ],
      "text/plain": [
       "                  bakers_percent  grams\n",
       "yeast                        2.0    6.6\n",
       "oil                          6.0   19.9\n",
       "honey                        4.0   13.3\n",
       "salt                         2.0    6.6\n",
       "water                       67.0  222.1\n",
       "wholewheat_flour           100.0  331.5\n",
       "white_flour                  0.0    0.0\n",
       "total                      181.0  600.0"
      ]
     },
     "execution_count": 20,
     "metadata": {},
     "output_type": "execute_result"
    }
   ],
   "source": [
    "# Divide loaf weight by sum of the percent column to scale the ingredients in grams\n",
    "total_percent = df[\"bakers_percent\"].sum()\n",
    "df[\"grams\"] = df[\"bakers_percent\"] * loaf_weight / total_percent\n",
    "df[\"grams\"] = df[\"grams\"].round(1)\n",
    "total = df[\"grams\"].sum()\n",
    "\n",
    "# add a row for total and display\n",
    "df.loc[\"total\"] = df.sum()\n",
    "\n",
    "df"
   ]
  }
 ],
 "metadata": {
  "kernelspec": {
   "display_name": "Python 3",
   "language": "python",
   "name": "python3"
  },
  "language_info": {
   "codemirror_mode": {
    "name": "ipython",
    "version": 3
   },
   "file_extension": ".py",
   "mimetype": "text/x-python",
   "name": "python",
   "nbconvert_exporter": "python",
   "pygments_lexer": "ipython3",
   "version": "3.10.12"
  }
 },
 "nbformat": 4,
 "nbformat_minor": 2
}
