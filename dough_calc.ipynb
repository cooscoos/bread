{
 "cells": [
  {
   "cell_type": "markdown",
   "metadata": {},
   "source": [
    "# Dough calculator\n",
    "\n",
    "Set up the calculator."
   ]
  },
  {
   "cell_type": "code",
   "execution_count": 6,
   "metadata": {},
   "outputs": [],
   "source": [
    "import pandas as pd\n",
    "\n",
    "BASE_INGREDIENTS = {\n",
    "    \"yeast\": 2.0,\n",
    "    \"oil\": 6.0,\n",
    "    \"honey\": 4.0,\n",
    "    \"salt\": 2.0\n",
    "}\n",
    "\n",
    "def get_water_percent(percent_wholewheat: float) -> float:\n",
    "    \"\"\"Returns the water percentage for the given whole wheat percentage.\"\"\"\n",
    "    return 63 + percent_wholewheat * 0.04\n",
    "\n",
    "def create_table(ingredients: dict, loaf_weight: int) -> pd.DataFrame:\n",
    "    \"\"\"Returns a pandas DataFrame with the ingredients and their weights.\n",
    "    For a given ingredients dictionary and loaf weight (grams)\"\"\"\n",
    "    # Convert ingredients % to df\n",
    "    df = pd.DataFrame(ingredients, index=[0])\n",
    "    df = df.T\n",
    "    df.columns = [\"bakers_percent\"]\n",
    "\n",
    "    # Divide loaf weight by sum of the percent column to scale the ingredients in grams\n",
    "    total_percent = df[\"bakers_percent\"].sum()\n",
    "    df[\"grams\"] = df[\"bakers_percent\"] * loaf_weight / total_percent\n",
    "    df[\"grams\"] = df[\"grams\"].round(1)\n",
    "\n",
    "    # add a row for total\n",
    "    df.loc[\"total\"] = df.sum()\n",
    "\n",
    "    return df"
   ]
  },
  {
   "cell_type": "markdown",
   "metadata": {},
   "source": [
    "## For whole wheat\n",
    "\n",
    "Input the percentage of wholewheat flour and the final loaf weight in grams. The calculator will spit out table of ingredients guessing the water value."
   ]
  },
  {
   "cell_type": "code",
   "execution_count": 7,
   "metadata": {},
   "outputs": [],
   "source": [
    "percent_wholewheat = 100  # percent from 0 to 100\n",
    "loaf_weight = 600         # grams"
   ]
  },
  {
   "cell_type": "code",
   "execution_count": 8,
   "metadata": {},
   "outputs": [
    {
     "data": {
      "text/html": [
       "<div>\n",
       "<style scoped>\n",
       "    .dataframe tbody tr th:only-of-type {\n",
       "        vertical-align: middle;\n",
       "    }\n",
       "\n",
       "    .dataframe tbody tr th {\n",
       "        vertical-align: top;\n",
       "    }\n",
       "\n",
       "    .dataframe thead th {\n",
       "        text-align: right;\n",
       "    }\n",
       "</style>\n",
       "<table border=\"1\" class=\"dataframe\">\n",
       "  <thead>\n",
       "    <tr style=\"text-align: right;\">\n",
       "      <th></th>\n",
       "      <th>bakers_percent</th>\n",
       "      <th>grams</th>\n",
       "    </tr>\n",
       "  </thead>\n",
       "  <tbody>\n",
       "    <tr>\n",
       "      <th>yeast</th>\n",
       "      <td>2.0</td>\n",
       "      <td>6.6</td>\n",
       "    </tr>\n",
       "    <tr>\n",
       "      <th>oil</th>\n",
       "      <td>6.0</td>\n",
       "      <td>19.9</td>\n",
       "    </tr>\n",
       "    <tr>\n",
       "      <th>honey</th>\n",
       "      <td>4.0</td>\n",
       "      <td>13.3</td>\n",
       "    </tr>\n",
       "    <tr>\n",
       "      <th>salt</th>\n",
       "      <td>2.0</td>\n",
       "      <td>6.6</td>\n",
       "    </tr>\n",
       "    <tr>\n",
       "      <th>water</th>\n",
       "      <td>67.0</td>\n",
       "      <td>222.1</td>\n",
       "    </tr>\n",
       "    <tr>\n",
       "      <th>wholewheat_flour</th>\n",
       "      <td>100.0</td>\n",
       "      <td>331.5</td>\n",
       "    </tr>\n",
       "    <tr>\n",
       "      <th>white_flour</th>\n",
       "      <td>0.0</td>\n",
       "      <td>0.0</td>\n",
       "    </tr>\n",
       "    <tr>\n",
       "      <th>total</th>\n",
       "      <td>181.0</td>\n",
       "      <td>600.0</td>\n",
       "    </tr>\n",
       "  </tbody>\n",
       "</table>\n",
       "</div>"
      ],
      "text/plain": [
       "                  bakers_percent  grams\n",
       "yeast                        2.0    6.6\n",
       "oil                          6.0   19.9\n",
       "honey                        4.0   13.3\n",
       "salt                         2.0    6.6\n",
       "water                       67.0  222.1\n",
       "wholewheat_flour           100.0  331.5\n",
       "white_flour                  0.0    0.0\n",
       "total                      181.0  600.0"
      ]
     },
     "execution_count": 8,
     "metadata": {},
     "output_type": "execute_result"
    }
   ],
   "source": [
    "# Calculate the ingredients % for the given whole wheat percentage\n",
    "ingredients = BASE_INGREDIENTS.copy()\n",
    "ingredients.update({\n",
    "    \"water\": get_water_percent(percent_wholewheat),\n",
    "    \"wholewheat_flour\": percent_wholewheat,\n",
    "    \"white_flour\": 100 - percent_wholewheat\n",
    "})\n",
    "\n",
    "df = create_table(ingredients, loaf_weight)\n",
    "df\n"
   ]
  },
  {
   "cell_type": "markdown",
   "metadata": {},
   "source": [
    "## Chosen hydration\n",
    "\n",
    "Alternatively, we can define the hydration manually if we want to push it up further:"
   ]
  },
  {
   "cell_type": "code",
   "execution_count": 9,
   "metadata": {},
   "outputs": [],
   "source": [
    "hydration = 70\n",
    "percent_wholewheat = 100\n",
    "loaf_weight = 600"
   ]
  },
  {
   "cell_type": "code",
   "execution_count": 10,
   "metadata": {},
   "outputs": [
    {
     "data": {
      "text/html": [
       "<div>\n",
       "<style scoped>\n",
       "    .dataframe tbody tr th:only-of-type {\n",
       "        vertical-align: middle;\n",
       "    }\n",
       "\n",
       "    .dataframe tbody tr th {\n",
       "        vertical-align: top;\n",
       "    }\n",
       "\n",
       "    .dataframe thead th {\n",
       "        text-align: right;\n",
       "    }\n",
       "</style>\n",
       "<table border=\"1\" class=\"dataframe\">\n",
       "  <thead>\n",
       "    <tr style=\"text-align: right;\">\n",
       "      <th></th>\n",
       "      <th>bakers_percent</th>\n",
       "      <th>grams</th>\n",
       "    </tr>\n",
       "  </thead>\n",
       "  <tbody>\n",
       "    <tr>\n",
       "      <th>yeast</th>\n",
       "      <td>2.0</td>\n",
       "      <td>6.5</td>\n",
       "    </tr>\n",
       "    <tr>\n",
       "      <th>oil</th>\n",
       "      <td>6.0</td>\n",
       "      <td>19.6</td>\n",
       "    </tr>\n",
       "    <tr>\n",
       "      <th>honey</th>\n",
       "      <td>4.0</td>\n",
       "      <td>13.0</td>\n",
       "    </tr>\n",
       "    <tr>\n",
       "      <th>salt</th>\n",
       "      <td>2.0</td>\n",
       "      <td>6.5</td>\n",
       "    </tr>\n",
       "    <tr>\n",
       "      <th>water</th>\n",
       "      <td>70.0</td>\n",
       "      <td>228.3</td>\n",
       "    </tr>\n",
       "    <tr>\n",
       "      <th>wholewheat_flour</th>\n",
       "      <td>100.0</td>\n",
       "      <td>326.1</td>\n",
       "    </tr>\n",
       "    <tr>\n",
       "      <th>white_flour</th>\n",
       "      <td>0.0</td>\n",
       "      <td>0.0</td>\n",
       "    </tr>\n",
       "    <tr>\n",
       "      <th>total</th>\n",
       "      <td>184.0</td>\n",
       "      <td>600.0</td>\n",
       "    </tr>\n",
       "  </tbody>\n",
       "</table>\n",
       "</div>"
      ],
      "text/plain": [
       "                  bakers_percent  grams\n",
       "yeast                        2.0    6.5\n",
       "oil                          6.0   19.6\n",
       "honey                        4.0   13.0\n",
       "salt                         2.0    6.5\n",
       "water                       70.0  228.3\n",
       "wholewheat_flour           100.0  326.1\n",
       "white_flour                  0.0    0.0\n",
       "total                      184.0  600.0"
      ]
     },
     "execution_count": 10,
     "metadata": {},
     "output_type": "execute_result"
    }
   ],
   "source": [
    "ingredients = BASE_INGREDIENTS.copy()\n",
    "ingredients.update({\n",
    "    \"water\": hydration,\n",
    "    \"wholewheat_flour\": percent_wholewheat,\n",
    "    \"white_flour\": 100 - percent_wholewheat\n",
    "})\n",
    "\n",
    "# Create the table\n",
    "df = create_table(ingredients, loaf_weight)\n",
    "df"
   ]
  }
 ],
 "metadata": {
  "kernelspec": {
   "display_name": "Python 3",
   "language": "python",
   "name": "python3"
  },
  "language_info": {
   "codemirror_mode": {
    "name": "ipython",
    "version": 3
   },
   "file_extension": ".py",
   "mimetype": "text/x-python",
   "name": "python",
   "nbconvert_exporter": "python",
   "pygments_lexer": "ipython3",
   "version": "3.10.12"
  }
 },
 "nbformat": 4,
 "nbformat_minor": 2
}
